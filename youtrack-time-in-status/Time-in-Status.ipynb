{
 "cells": [
  {
   "cell_type": "markdown",
   "id": "106a94e2-cc9d-49b4-8c06-01f0ce9bf6be",
   "metadata": {},
   "source": [
    "# Youtrack. Time in status statistics\n",
    "\n",
    "## Description\n",
    "A Jupyter Notebook that helps understand how long each YouTrack issue stays in each status. It calculates various metrics and statistics.\n",
    "\n",
    "### Instructions\n",
    "1. All variables set in UPPER_CASE can be and should be changed.\n",
    "2. Execute the cells from top to bottom from \"Build DataFrame\" section\n",
    "3. After you can execute the remaining sections in any order, but ensure that all UPPER_CASE variables are filled.\n",
    "4. Once the DataFrame is built, you can call `get_issue_info()` for any issue to retrieve detailed information about it."
   ]
  },
  {
   "cell_type": "code",
   "execution_count": null,
   "id": "fa78290d-b6bb-471d-a9aa-8e26df2afcbb",
   "metadata": {
    "editable": true,
    "slideshow": {
     "slide_type": ""
    },
    "tags": []
   },
   "outputs": [],
   "source": [
    "# Constants for project identification and data filtering\n",
    "\n",
    "PROJECT_ID = \"\"         # Project name\n",
    "STATUS_FIELD = \"State\"  # Field that indicates the status of the work\n",
    "TYPE_FIELD = \"Type\"     # Field that indicates the type of the work\n",
    "\n",
    "# Filter for the project issues\n",
    "FILTER = f\"project: {PROJECT_ID} created: 2025-02-01 .. 2025-12-31\""
   ]
  },
  {
   "cell_type": "markdown",
   "id": "16741f2e",
   "metadata": {},
   "source": [
    "## Build DataFrame"
   ]
  },
  {
   "cell_type": "code",
   "execution_count": null,
   "id": "4bd6ca86-53eb-4062-9581-f6023f538de0",
   "metadata": {},
   "outputs": [],
   "source": [
    "# library import\n",
    "\n",
    "import requests\n",
    "from datetime import datetime, timedelta\n",
    "import pandas as pd\n",
    "\n",
    "import activities\n",
    "import issues\n",
    "\n",
    "from helpers import format_time, create_column_mapping"
   ]
  },
  {
   "cell_type": "code",
   "execution_count": null,
   "id": "95576598-bc67-4fac-87c5-d69eef1a6c18",
   "metadata": {},
   "outputs": [],
   "source": []
  },
  {
   "cell_type": "code",
   "execution_count": null,
   "id": "18e946d9-39be-4da9-9988-e12dbdd7b3a9",
   "metadata": {},
   "outputs": [],
   "source": [
    "# Get all issues in specified project by filter\n",
    "\n",
    "issue_list = issues.get_all_issues(PROJECT_ID, FILTER)\n",
    "print(f\"Total issues received from project {PROJECT_ID}: {len(issue_list)}\")"
   ]
  },
  {
   "cell_type": "code",
   "execution_count": null,
   "id": "5de20ec4-331b-4348-9a0b-4bad29cb26c6",
   "metadata": {
    "jp-MarkdownHeadingCollapsed": true
   },
   "outputs": [],
   "source": []
  },
  {
   "cell_type": "code",
   "execution_count": null,
   "id": "e1e952b5-d88c-46af-a227-9e3fb3b35ed2",
   "metadata": {},
   "outputs": [],
   "source": [
    "# Get status change events for each issue\n",
    "for issue in issue_list:\n",
    "    issue_id = issue['idReadable']\n",
    "    if 'activities' not in issue:\n",
    "        activity_list = activities.filter_and_sort_activities(activities.get_issue_activities(issue_id), STATUS_FIELD)\n",
    "        issue['activities'] = activity_list"
   ]
  },
  {
   "cell_type": "code",
   "execution_count": null,
   "id": "1372abd1",
   "metadata": {},
   "outputs": [],
   "source": [
    "# Create DataFrame for analysis\n",
    "data = issues.create_dataframe(issue_list)\n",
    "df = pd.DataFrame(data)"
   ]
  },
  {
   "cell_type": "code",
   "execution_count": null,
   "id": "0e9727ec-8bb1-4f5a-b8fa-2a56037d4540",
   "metadata": {},
   "outputs": [],
   "source": [
    "# Additional analytics on issues\n",
    "\n",
    "# Calculate queue time\n",
    "QUEUE_STATE = [\"New\", \"Queue\"]\n",
    "\n",
    "queue_columns = [f'{state} duration' for state in QUEUE_STATE]\n",
    "df['Queue time'] = df[queue_columns].sum(axis=1)\n",
    "\n",
    "# Calculate Lead Time and Cycle Time ror all resolved issues\n",
    "filtered_df = df[df['resolved'].notna()] \n",
    "df.loc[filtered_df.index, 'Lead time'] = filtered_df['resolved'] - filtered_df['created']\n",
    "df.loc[filtered_df.index, 'Cycle time'] = df.loc[filtered_df.index, 'Lead time'] - df.loc[filtered_df.index, 'Queue time']\n",
    "\n",
    "# Helper variables and functions for pretty analytics\n",
    "column_mapping = create_column_mapping(df.columns)\n",
    "\n",
    "def get_issue_info(issue_id):\n",
    "    print(df.loc[df['issue_id'] == issue_id, ['issue_id', TYPE_FIELD, STATUS_FIELD, 'Priority']].rename(columns={'issue_id': 'ID'}), \"\\n\")\n",
    "    time_columns = df.filter(regex=r'duration$|Spent time')             # Filert columns\n",
    "    result = time_columns.loc[df['issue_id'] == issue_id].dropna(axis=1) # Select row by specific id\n",
    "    result = result.map(format_time).rename(columns=column_mapping)\n",
    "    return result"
   ]
  },
  {
   "cell_type": "markdown",
   "id": "85b15dad",
   "metadata": {},
   "source": [
    "## DataFrame"
   ]
  },
  {
   "cell_type": "code",
   "execution_count": null,
   "id": "4d26613a-c1f9-4351-a62f-4258c5d95605",
   "metadata": {},
   "outputs": [],
   "source": [
    "# DataFrame\n",
    "df"
   ]
  },
  {
   "cell_type": "code",
   "execution_count": null,
   "id": "3f43d322-1da4-4e27-bc30-552134a58c3a",
   "metadata": {},
   "outputs": [],
   "source": [
    "# To display a list of unique values in a field, you can use the following commands\n",
    "\n",
    "#print(\"State: \", df['State'].unique())\n",
    "#print(\"Priority: \", df['Priority'].unique())\n",
    "#print(\"Type: \", df['Type'].unique())"
   ]
  },
  {
   "cell_type": "markdown",
   "id": "2cc401de-5662-4fa1-817d-bb83db316153",
   "metadata": {},
   "source": [
    "## Аналитика"
   ]
  },
  {
   "cell_type": "code",
   "execution_count": null,
   "id": "f04a3024-8300-4ad5-938e-79d83c463bf3",
   "metadata": {},
   "outputs": [],
   "source": [
    "# General table for average time in status, grouped by issue type\n",
    "\n",
    "time_columns = [col for col in df.columns if col.endswith('duration')]\n",
    "average_time_by_content_type = df.groupby(TYPE_FIELD)[time_columns].mean()\n",
    "average_time_by_content_type.map(format_time).rename(columns=column_mapping)"
   ]
  },
  {
   "cell_type": "code",
   "execution_count": null,
   "id": "4c757404-8fa6-4ed2-83e3-ee746e625e26",
   "metadata": {},
   "outputs": [],
   "source": [
    "# Filtering issue types that require analytics\n",
    "# Grouping criteria\n",
    "\n",
    "ISSUE_TYPE = [\"Bug\"]         # Can specify multiple types\n",
    "GROUPING = \"Priority\"    # Can specify only one field"
   ]
  },
  {
   "cell_type": "code",
   "execution_count": null,
   "id": "ddb489ce-3bb6-4b70-8148-0b6c3a3c73ff",
   "metadata": {},
   "outputs": [],
   "source": [
    "# Calculate the average time an issue spends in each status\n",
    "\n",
    "print(f\"Statistics for {', '.join(ISSUE_TYPE)}\")\n",
    "\n",
    "time_columns = [col for col in df.columns if col.endswith('duration')]\n",
    "average_time_by_content_type = df[df[TYPE_FIELD].isin(ISSUE_TYPE)].groupby(GROUPING)[time_columns].mean()\n",
    "average_time_by_content_type.map(format_time).rename(columns=column_mapping)"
   ]
  },
  {
   "cell_type": "code",
   "execution_count": null,
   "id": "00b4f9a3-77df-4b17-a0f0-35288433b52e",
   "metadata": {},
   "outputs": [],
   "source": [
    "# Average time an issue spends in each status without grouping\n",
    "\n",
    "filtered_df = df[df['Type'].isin(ISSUE_TYPE)]\n",
    "filtered_df.filter(regex=r'duration$').rename(columns=column_mapping).mean().dropna().apply(format_time)"
   ]
  },
  {
   "cell_type": "code",
   "execution_count": null,
   "id": "dd96c61b-0b1b-4af9-bfef-3cd8bc417d0f",
   "metadata": {},
   "outputs": [],
   "source": [
    "# Avarage metrics\n",
    "\n",
    "columns = ['Queue time', 'Cycle time', 'Lead time', 'Spent time']\n",
    "\n",
    "average_time_to_resolve = df.loc[filtered_df.index, 'Lead time'].mean()\n",
    "average_time_in_work = df.loc[filtered_df.index, 'Cycle time'].mean()\n",
    "average_time_in_queue = df.loc[filtered_df.index, 'Queue time'].mean()\n",
    "grouped_means = filtered_df.groupby(GROUPING)[columns].mean()\n",
    "\n",
    "print(f\"Queue time: {format_time(average_time_in_queue)}\")\n",
    "print(f\"Cycle time: {format_time(average_time_in_work)}\")\n",
    "print(f\"Lead time: {format_time(average_time_to_resolve)}\\n\")\n",
    "\n",
    "grouped_means.map(format_time).rename(columns={f\"{QUEUE_STATE} duration\":\"Queue\"})"
   ]
  },
  {
   "cell_type": "markdown",
   "id": "0163b212",
   "metadata": {},
   "source": [
    "## Anomalies"
   ]
  },
  {
   "cell_type": "code",
   "execution_count": null,
   "id": "642612b8-e6d3-4007-8368-83c9be2779d3",
   "metadata": {},
   "outputs": [],
   "source": [
    "# Filtering issues types that require analytics\n",
    "# Grouping criteria\n",
    "\n",
    "ISSUE_TYPE = [\"Bug\"]         # Can specify multiple types\n",
    "GROUPING = \"Priority\"   # Can specify only one field"
   ]
  },
  {
   "cell_type": "code",
   "execution_count": null,
   "id": "b4e4ed8f-cb68-4b53-8c2b-194987f8a7bf",
   "metadata": {},
   "outputs": [],
   "source": []
  },
  {
   "cell_type": "code",
   "execution_count": null,
   "id": "d5391847-ccbf-4ef3-a5b3-eff194f43b50",
   "metadata": {
    "editable": true,
    "slideshow": {
     "slide_type": ""
    },
    "tags": []
   },
   "outputs": [],
   "source": [
    "# Max lead time issue\n",
    "\n",
    "df_filtered_2 = df[df[TYPE_FIELD].isin(ISSUE_TYPE)].dropna(subset=['Lead time'])\n",
    "max_time_to_resolve = df_filtered_2.groupby(GROUPING)['Lead time'].idxmax()\n",
    "max_resolve_issue = df_filtered_2.loc[max_time_to_resolve, [GROUPING, 'issue_id', 'Lead time', 'Cycle time', 'Spent time']]\n",
    "max_resolve_issue['Lead time'] = max_resolve_issue['Lead time'].apply(format_time)\n",
    "max_resolve_issue['Cycle time'] = max_resolve_issue['Cycle time'].apply(format_time)\n",
    "max_resolve_issue['Spent time'] = max_resolve_issue['Spent time'].apply(format_time)\n",
    "\n",
    "max_resolve_issue"
   ]
  },
  {
   "cell_type": "code",
   "execution_count": null,
   "id": "8d07bd98-b313-4c8e-9361-4298d0ee9839",
   "metadata": {},
   "outputs": [],
   "source": [
    "# Using get_issue_info anywhere in the notebook, you can get data for a specific issue\n",
    "get_issue_info(\"\")"
   ]
  },
  {
   "cell_type": "code",
   "execution_count": null,
   "id": "f48a37cc-78ae-4b8c-976c-156d5e3e4490",
   "metadata": {},
   "outputs": [],
   "source": [
    "# Max time in queue\n",
    "\n",
    "df_filtered_3 = df[df[TYPE_FIELD].isin(ISSUE_TYPE)].dropna(subset=['Queue time'])\n",
    "max_time_in_queue = df_filtered_3.groupby(GROUPING)['Queue time'].idxmax()\n",
    "max_queue_issue = df_filtered_3.loc[max_time_in_queue, [GROUPING, 'issue_id', 'Type', 'Queue time']]\n",
    "max_queue_issue['Queue time'] = max_queue_issue['Queue time'].apply(format_time)\n",
    "\n",
    "max_queue_issue.rename(columns=column_mapping)"
   ]
  },
  {
   "cell_type": "code",
   "execution_count": null,
   "id": "7cbccfee-eef9-4fa9-8deb-0420bf218f15",
   "metadata": {},
   "outputs": [],
   "source": []
  }
 ],
 "metadata": {
  "kernelspec": {
   "display_name": "Python 3 (ipykernel)",
   "language": "python",
   "name": "python3"
  },
  "language_info": {
   "codemirror_mode": {
    "name": "ipython",
    "version": 3
   },
   "file_extension": ".py",
   "mimetype": "text/x-python",
   "name": "python",
   "nbconvert_exporter": "python",
   "pygments_lexer": "ipython3",
   "version": "3.13.2"
  }
 },
 "nbformat": 4,
 "nbformat_minor": 5
}
